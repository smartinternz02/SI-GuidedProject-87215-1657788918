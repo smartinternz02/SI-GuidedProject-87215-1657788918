{
 "cells": [
  {
   "cell_type": "markdown",
   "id": "3ac8875c",
   "metadata": {},
   "source": [
    "# Image Data Augmentation "
   ]
  },
  {
   "cell_type": "markdown",
   "id": "b41671f7",
   "metadata": {},
   "source": [
    "# Import ImageDataGenerator Library and Configure it"
   ]
  },
  {
   "cell_type": "code",
   "execution_count": 24,
   "id": "754cb177",
   "metadata": {},
   "outputs": [],
   "source": [
    "from keras.preprocessing.image import ImageDataGenerator\n",
    "train_datagen = ImageDataGenerator(rescale=1./255,shear_range = 0.2,zoom_range = 0.2,horizontal_flip = True)\n",
    "test_datagen = ImageDataGenerator(rescale = 1)"
   ]
  },
  {
   "cell_type": "markdown",
   "id": "c82e6620",
   "metadata": {},
   "source": [
    "# Apply ImageDataGenerator functionality to Train and Test set"
   ]
  },
  {
   "cell_type": "code",
   "execution_count": 25,
   "id": "d70ba322",
   "metadata": {},
   "outputs": [
    {
     "name": "stdout",
     "output_type": "stream",
     "text": [
      "Found 5384 images belonging to 6 classes.\n",
      "Found 1686 images belonging to 6 classes.\n"
     ]
    }
   ],
   "source": [
    "x_train = train_datagen.flow_from_directory('fruit-dataset/train',\n",
    "                                           target_size = (128,128),batch_size = 32,class_mode = 'categorical')\n",
    "x_test = test_datagen.flow_from_directory('fruit-dataset/test',\n",
    "                                           target_size = (128,128),batch_size = 32,class_mode = 'categorical')"
   ]
  },
  {
   "cell_type": "markdown",
   "id": "53e69438",
   "metadata": {},
   "source": [
    "# Importing the Libraries"
   ]
  },
  {
   "cell_type": "code",
   "execution_count": 26,
   "id": "2c33cc09",
   "metadata": {},
   "outputs": [],
   "source": [
    "from keras.models import Sequential\n",
    "from keras.layers import Dense\n",
    "from keras.layers import Convolution2D\n",
    "from keras.layers import MaxPooling2D\n",
    "from keras.layers import Flatten"
   ]
  },
  {
   "cell_type": "markdown",
   "id": "78979c90",
   "metadata": {},
   "source": [
    "# Initializing the Model"
   ]
  },
  {
   "cell_type": "code",
   "execution_count": 27,
   "id": "08ce75ab",
   "metadata": {},
   "outputs": [],
   "source": [
    "model=Sequential()"
   ]
  },
  {
   "cell_type": "markdown",
   "id": "beaef091",
   "metadata": {},
   "source": [
    "# Add CNN Layers"
   ]
  },
  {
   "cell_type": "code",
   "execution_count": 29,
   "id": "829367f9",
   "metadata": {},
   "outputs": [],
   "source": [
    "#Activation Function\n",
    "model.add(Convolution2D(32,(5,5),input_shape = (128,128,3),activation = 'relu'))"
   ]
  },
  {
   "cell_type": "code",
   "execution_count": 30,
   "id": "394eaa0f",
   "metadata": {},
   "outputs": [],
   "source": [
    "#Max Pooling\n",
    "model.add(MaxPooling2D(pool_size = (2,2)))"
   ]
  },
  {
   "cell_type": "code",
   "execution_count": 31,
   "id": "f125565d",
   "metadata": {},
   "outputs": [],
   "source": [
    "#Add Flatten layer\n",
    "model.add(Flatten())"
   ]
  },
  {
   "cell_type": "markdown",
   "id": "980f5f30",
   "metadata": {},
   "source": [
    "# Add Dense Layers"
   ]
  },
  {
   "cell_type": "code",
   "execution_count": 32,
   "id": "34ad466d",
   "metadata": {},
   "outputs": [],
   "source": [
    "model.add(Dense(40,kernel_initializer='uniform', activation='relu'))\n",
    "model.add(Dense(20,kernel_initializer='random_uniform', activation='relu'))\n",
    "model.add(Dense(6,kernel_initializer='random_uniform', activation='softmax'))"
   ]
  },
  {
   "cell_type": "markdown",
   "id": "47174ead",
   "metadata": {},
   "source": [
    "# Compile the model"
   ]
  },
  {
   "cell_type": "code",
   "execution_count": 33,
   "id": "539107b7",
   "metadata": {},
   "outputs": [],
   "source": [
    "model.compile(loss = 'categorical_crossentropy', optimizer = 'adam', metrics = ['accuracy'])"
   ]
  },
  {
   "cell_type": "markdown",
   "id": "eb761434",
   "metadata": {},
   "source": [
    "# Fit and save the model"
   ]
  },
  {
   "cell_type": "code",
   "execution_count": 36,
   "id": "07d67f56",
   "metadata": {},
   "outputs": [
    {
     "name": "stdout",
     "output_type": "stream",
     "text": [
      "Epoch 1/3\n",
      "168/168 [==============================] - 201s 1s/step - loss: 0.1745 - accuracy: 0.9398 - val_loss: 151.6907 - val_accuracy: 0.7879\n",
      "Epoch 2/3\n",
      "168/168 [==============================] - 192s 1s/step - loss: 0.1048 - accuracy: 0.9638 - val_loss: 265.2658 - val_accuracy: 0.7825\n",
      "Epoch 3/3\n",
      "168/168 [==============================] - 194s 1s/step - loss: 0.1128 - accuracy: 0.9638 - val_loss: 130.0285 - val_accuracy: 0.8456\n"
     ]
    },
    {
     "data": {
      "text/plain": [
       "<keras.callbacks.History at 0x1df3bc28be0>"
      ]
     },
     "execution_count": 36,
     "metadata": {},
     "output_type": "execute_result"
    }
   ],
   "source": [
    "model.fit(x_train,steps_per_epoch = 168, epochs = 3, validation_data = x_test, validation_steps = 52)"
   ]
  },
  {
   "cell_type": "code",
   "execution_count": 37,
   "id": "fc53e130",
   "metadata": {},
   "outputs": [],
   "source": [
    "model.save('fruit.h5')"
   ]
  },
  {
   "cell_type": "code",
   "execution_count": null,
   "id": "532be39e",
   "metadata": {},
   "outputs": [],
   "source": []
  }
 ],
 "metadata": {
  "kernelspec": {
   "display_name": "Python 3 (ipykernel)",
   "language": "python",
   "name": "python3"
  },
  "language_info": {
   "codemirror_mode": {
    "name": "ipython",
    "version": 3
   },
   "file_extension": ".py",
   "mimetype": "text/x-python",
   "name": "python",
   "nbconvert_exporter": "python",
   "pygments_lexer": "ipython3",
   "version": "3.9.12"
  }
 },
 "nbformat": 4,
 "nbformat_minor": 5
}
