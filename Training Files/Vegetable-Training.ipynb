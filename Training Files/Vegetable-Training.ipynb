{
 "cells": [
  {
   "cell_type": "markdown",
   "id": "7ccf7a7d",
   "metadata": {},
   "source": [
    "# Image Data Augmentation "
   ]
  },
  {
   "cell_type": "markdown",
   "id": "7a79f6e8",
   "metadata": {},
   "source": [
    "# Import ImageDataGenerator Library and Configure it"
   ]
  },
  {
   "cell_type": "code",
   "execution_count": 1,
   "id": "9740637e",
   "metadata": {},
   "outputs": [],
   "source": [
    "from keras.preprocessing.image import ImageDataGenerator\n",
    "train_datagen = ImageDataGenerator(rescale=1./255,shear_range = 0.2,zoom_range = 0.2,horizontal_flip = True)\n",
    "test_datagen = ImageDataGenerator(rescale = 1)"
   ]
  },
  {
   "cell_type": "markdown",
   "id": "ab564aed",
   "metadata": {},
   "source": [
    "# Apply ImageDataGenerator functionality to Train and Test set"
   ]
  },
  {
   "cell_type": "code",
   "execution_count": 2,
   "id": "a711d976",
   "metadata": {},
   "outputs": [
    {
     "name": "stdout",
     "output_type": "stream",
     "text": [
      "Found 11386 images belonging to 9 classes.\n",
      "Found 3416 images belonging to 9 classes.\n"
     ]
    }
   ],
   "source": [
    "x_train = train_datagen.flow_from_directory('veg-dataset/train_set',\n",
    "                                           target_size = (128,128),batch_size = 16,class_mode = 'categorical')\n",
    "x_test = test_datagen.flow_from_directory('veg-dataset/test_set',\n",
    "                                           target_size = (128,128),batch_size = 16,class_mode = 'categorical')"
   ]
  },
  {
   "cell_type": "markdown",
   "id": "eeb5d491",
   "metadata": {},
   "source": [
    "# Importing the Libraries"
   ]
  },
  {
   "cell_type": "code",
   "execution_count": 3,
   "id": "e3346561",
   "metadata": {},
   "outputs": [],
   "source": [
    "from keras.models import Sequential\n",
    "from keras.layers import Dense\n",
    "from keras.layers import Convolution2D\n",
    "from keras.layers import MaxPooling2D\n",
    "from keras.layers import Flatten"
   ]
  },
  {
   "cell_type": "markdown",
   "id": "674d2828",
   "metadata": {},
   "source": [
    "# Initializing the Model"
   ]
  },
  {
   "cell_type": "code",
   "execution_count": 4,
   "id": "29af3521",
   "metadata": {},
   "outputs": [],
   "source": [
    "model=Sequential()"
   ]
  },
  {
   "cell_type": "markdown",
   "id": "054b4444",
   "metadata": {},
   "source": [
    "# Add CNN Layers"
   ]
  },
  {
   "cell_type": "code",
   "execution_count": 5,
   "id": "9a55c03b",
   "metadata": {},
   "outputs": [],
   "source": [
    "#Activation Function\n",
    "model.add(Convolution2D(32,(5,5),input_shape = (128,128,3),activation = 'relu'))"
   ]
  },
  {
   "cell_type": "code",
   "execution_count": 6,
   "id": "cf62e6b8",
   "metadata": {},
   "outputs": [],
   "source": [
    "#Max Pooling\n",
    "model.add(MaxPooling2D(pool_size = (2,2)))"
   ]
  },
  {
   "cell_type": "code",
   "execution_count": 7,
   "id": "9336a118",
   "metadata": {},
   "outputs": [],
   "source": [
    "#Add the flatten layer\n",
    "model.add(Flatten())"
   ]
  },
  {
   "cell_type": "markdown",
   "id": "edf6782f",
   "metadata": {},
   "source": [
    "# Add Dense Layers"
   ]
  },
  {
   "cell_type": "code",
   "execution_count": 8,
   "id": "919d902d",
   "metadata": {},
   "outputs": [],
   "source": [
    "model.add(Dense(units = 300,kernel_initializer='uniform', activation='relu'))\n",
    "model.add(Dense(units = 150,kernel_initializer='uniform', activation='relu'))\n",
    "model.add(Dense(units = 75,kernel_initializer='uniform', activation='relu'))\n",
    "model.add(Dense(9, kernel_initializer='uniform', activation='softmax'))"
   ]
  },
  {
   "cell_type": "markdown",
   "id": "19e6cdc0",
   "metadata": {},
   "source": [
    "# Compile the model"
   ]
  },
  {
   "cell_type": "code",
   "execution_count": 11,
   "id": "95240d5d",
   "metadata": {},
   "outputs": [],
   "source": [
    "model.compile(loss = 'categorical_crossentropy', optimizer = 'adam', metrics = ['accuracy'])"
   ]
  },
  {
   "cell_type": "markdown",
   "id": "28177fdc",
   "metadata": {},
   "source": [
    "# Fit and save the model"
   ]
  },
  {
   "cell_type": "code",
   "execution_count": 12,
   "id": "7ecb2089",
   "metadata": {},
   "outputs": [
    {
     "name": "stdout",
     "output_type": "stream",
     "text": [
      "Epoch 1/20\n",
      "150/150 [==============================] - 43s 282ms/step - loss: 0.5447 - accuracy: 0.8133 - val_loss: 718.6071 - val_accuracy: 0.3703\n",
      "Epoch 2/20\n",
      "150/150 [==============================] - 44s 293ms/step - loss: 0.5246 - accuracy: 0.8133 - val_loss: 447.5519 - val_accuracy: 0.4688\n",
      "Epoch 3/20\n",
      "150/150 [==============================] - 43s 284ms/step - loss: 0.5247 - accuracy: 0.8138 - val_loss: 471.3345 - val_accuracy: 0.4234\n",
      "Epoch 4/20\n",
      "150/150 [==============================] - 42s 282ms/step - loss: 0.4690 - accuracy: 0.8296 - val_loss: 530.0467 - val_accuracy: 0.4500\n",
      "Epoch 5/20\n",
      "150/150 [==============================] - 43s 285ms/step - loss: 0.4618 - accuracy: 0.8317 - val_loss: 420.3822 - val_accuracy: 0.4000\n",
      "Epoch 6/20\n",
      "150/150 [==============================] - 43s 283ms/step - loss: 0.3974 - accuracy: 0.8592 - val_loss: 551.9142 - val_accuracy: 0.4703\n",
      "Epoch 7/20\n",
      "150/150 [==============================] - 44s 291ms/step - loss: 0.4480 - accuracy: 0.8462 - val_loss: 649.0431 - val_accuracy: 0.4500\n",
      "Epoch 8/20\n",
      "150/150 [==============================] - 43s 284ms/step - loss: 0.4053 - accuracy: 0.8587 - val_loss: 549.8568 - val_accuracy: 0.4547\n",
      "Epoch 9/20\n",
      "150/150 [==============================] - 43s 288ms/step - loss: 0.4252 - accuracy: 0.8504 - val_loss: 525.5988 - val_accuracy: 0.4531\n",
      "Epoch 10/20\n",
      "150/150 [==============================] - 44s 296ms/step - loss: 0.4395 - accuracy: 0.8512 - val_loss: 523.9396 - val_accuracy: 0.4672\n",
      "Epoch 11/20\n",
      "150/150 [==============================] - 42s 277ms/step - loss: 0.3844 - accuracy: 0.8662 - val_loss: 729.3231 - val_accuracy: 0.4344\n",
      "Epoch 12/20\n",
      "150/150 [==============================] - 41s 275ms/step - loss: 0.3824 - accuracy: 0.8696 - val_loss: 835.8876 - val_accuracy: 0.3812\n",
      "Epoch 13/20\n",
      "150/150 [==============================] - 41s 272ms/step - loss: 0.3719 - accuracy: 0.8759 - val_loss: 478.4791 - val_accuracy: 0.4406\n",
      "Epoch 14/20\n",
      "150/150 [==============================] - 41s 272ms/step - loss: 0.3587 - accuracy: 0.8712 - val_loss: 686.9310 - val_accuracy: 0.3594\n",
      "Epoch 15/20\n",
      "150/150 [==============================] - 41s 274ms/step - loss: 0.3332 - accuracy: 0.8850 - val_loss: 413.1308 - val_accuracy: 0.5609\n",
      "Epoch 16/20\n",
      "150/150 [==============================] - 41s 274ms/step - loss: 0.3558 - accuracy: 0.8779 - val_loss: 620.4662 - val_accuracy: 0.4266\n",
      "Epoch 17/20\n",
      "150/150 [==============================] - 41s 273ms/step - loss: 0.3672 - accuracy: 0.8754 - val_loss: 431.7836 - val_accuracy: 0.4922\n",
      "Epoch 18/20\n",
      "150/150 [==============================] - 41s 273ms/step - loss: 0.3082 - accuracy: 0.8921 - val_loss: 793.1554 - val_accuracy: 0.3859\n",
      "Epoch 19/20\n",
      "150/150 [==============================] - 41s 272ms/step - loss: 0.3491 - accuracy: 0.8763 - val_loss: 829.8880 - val_accuracy: 0.3844\n",
      "Epoch 20/20\n",
      "150/150 [==============================] - 42s 277ms/step - loss: 0.3043 - accuracy: 0.9008 - val_loss: 1051.2703 - val_accuracy: 0.3406\n"
     ]
    },
    {
     "data": {
      "text/plain": [
       "<keras.callbacks.History at 0x2747f3c4fa0>"
      ]
     },
     "execution_count": 12,
     "metadata": {},
     "output_type": "execute_result"
    }
   ],
   "source": [
    "model.fit(x_train,steps_per_epoch = 150, epochs = 20, validation_data = x_test, validation_steps = 40)"
   ]
  },
  {
   "cell_type": "code",
   "execution_count": 13,
   "id": "f4d51289",
   "metadata": {},
   "outputs": [],
   "source": [
    "model.save('vegetable.h5')"
   ]
  },
  {
   "cell_type": "code",
   "execution_count": null,
   "id": "b30bfa3d",
   "metadata": {},
   "outputs": [],
   "source": []
  }
 ],
 "metadata": {
  "kernelspec": {
   "display_name": "Python 3 (ipykernel)",
   "language": "python",
   "name": "python3"
  },
  "language_info": {
   "codemirror_mode": {
    "name": "ipython",
    "version": 3
   },
   "file_extension": ".py",
   "mimetype": "text/x-python",
   "name": "python",
   "nbconvert_exporter": "python",
   "pygments_lexer": "ipython3",
   "version": "3.9.12"
  }
 },
 "nbformat": 4,
 "nbformat_minor": 5
}
